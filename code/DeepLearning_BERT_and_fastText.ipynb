{
  "nbformat": 4,
  "nbformat_minor": 0,
  "metadata": {
    "colab": {
      "name": "DeepLearning_BERT_and_fastText.ipynb",
      "provenance": []
    },
    "kernelspec": {
      "name": "python3",
      "display_name": "Python 3"
    },
    "language_info": {
      "name": "python"
    }
  },
  "cells": [
    {
      "cell_type": "code",
      "metadata": {
        "colab": {
          "base_uri": "https://localhost:8080/",
          "height": 1000
        },
        "id": "NuLxcKRsJcWE",
        "outputId": "ba21c092-0f70-4245-dd05-f23d77863924"
      },
      "source": [
        "import pandas as pd\n",
        "dataset = pd.read_csv('df_news_spanish_covid.csv')\n",
        "dataset = dataset.sample(frac=1)\n",
        "\n",
        "#dataset = pd.read_excel ('Constraint_Train.xlsx')\n",
        "\n",
        "\n",
        "#Show the dataset information \n",
        "dataset.info()\n",
        "dataset.isnull()\n",
        "print(dataset.shape)\n",
        "dataset\n",
        "\n"
      ],
      "execution_count": 2,
      "outputs": [
        {
          "output_type": "stream",
          "name": "stdout",
          "text": [
            "<class 'pandas.core.frame.DataFrame'>\n",
            "Int64Index: 237 entries, 123 to 93\n",
            "Data columns (total 8 columns):\n",
            " #   Column      Non-Null Count  Dtype \n",
            "---  ------      --------------  ----- \n",
            " 0   ID          237 non-null    int64 \n",
            " 1   CATEGORY    237 non-null    int64 \n",
            " 2   TOPICS      237 non-null    object\n",
            " 3   SOURCE      232 non-null    object\n",
            " 4   HEADLINE    237 non-null    object\n",
            " 5   TEXT        237 non-null    object\n",
            " 6   LINK        234 non-null    object\n",
            " 7   Unnamed: 7  3 non-null      object\n",
            "dtypes: int64(2), object(6)\n",
            "memory usage: 16.7+ KB\n",
            "(237, 8)\n"
          ]
        },
        {
          "output_type": "execute_result",
          "data": {
            "text/html": [
              "<div>\n",
              "<style scoped>\n",
              "    .dataframe tbody tr th:only-of-type {\n",
              "        vertical-align: middle;\n",
              "    }\n",
              "\n",
              "    .dataframe tbody tr th {\n",
              "        vertical-align: top;\n",
              "    }\n",
              "\n",
              "    .dataframe thead th {\n",
              "        text-align: right;\n",
              "    }\n",
              "</style>\n",
              "<table border=\"1\" class=\"dataframe\">\n",
              "  <thead>\n",
              "    <tr style=\"text-align: right;\">\n",
              "      <th></th>\n",
              "      <th>ID</th>\n",
              "      <th>CATEGORY</th>\n",
              "      <th>TOPICS</th>\n",
              "      <th>SOURCE</th>\n",
              "      <th>HEADLINE</th>\n",
              "      <th>TEXT</th>\n",
              "      <th>LINK</th>\n",
              "      <th>Unnamed: 7</th>\n",
              "    </tr>\n",
              "  </thead>\n",
              "  <tbody>\n",
              "    <tr>\n",
              "      <th>123</th>\n",
              "      <td>299</td>\n",
              "      <td>0</td>\n",
              "      <td>Covid-19</td>\n",
              "      <td>AFPFactual</td>\n",
              "      <td>55 personas mueren en EEUU tras recibir la vac...</td>\n",
              "      <td>Al menos 55 personas mueren en EE.UU. tras rec...</td>\n",
              "      <td>https://www.hispantv.com/Noticia/salud/485847/...</td>\n",
              "      <td>NaN</td>\n",
              "    </tr>\n",
              "    <tr>\n",
              "      <th>36</th>\n",
              "      <td>100</td>\n",
              "      <td>1</td>\n",
              "      <td>Covid-19</td>\n",
              "      <td>El Tiempo</td>\n",
              "      <td>Uso de plasma disminuye hospitalización en pac...</td>\n",
              "      <td>Así lo reveló el estudio en el que participaro...</td>\n",
              "      <td>https://www.eltiempo.com/colombia/medellin/uso...</td>\n",
              "      <td>NaN</td>\n",
              "    </tr>\n",
              "    <tr>\n",
              "      <th>179</th>\n",
              "      <td>416</td>\n",
              "      <td>0</td>\n",
              "      <td>Covid-19</td>\n",
              "      <td>AFPFactual</td>\n",
              "      <td>Resolucion del Consejo de Europa sobre las Vac...</td>\n",
              "      <td>Resolucion del Consejo de Europa sobre las Vac...</td>\n",
              "      <td>https://www.facebook.com/586293665575278/posts...</td>\n",
              "      <td>NaN</td>\n",
              "    </tr>\n",
              "    <tr>\n",
              "      <th>221</th>\n",
              "      <td>529</td>\n",
              "      <td>1</td>\n",
              "      <td>Covid-19</td>\n",
              "      <td>Xataka</td>\n",
              "      <td>Alguien dice vender la vacuna de Pfizer contra...</td>\n",
              "      <td>Desafortunadamente no era tan difícil prever q...</td>\n",
              "      <td>https://www.xataka.com.mx/medicina-y-salud/alg...</td>\n",
              "      <td>NaN</td>\n",
              "    </tr>\n",
              "    <tr>\n",
              "      <th>49</th>\n",
              "      <td>134</td>\n",
              "      <td>0</td>\n",
              "      <td>Covid-19</td>\n",
              "      <td>AFPFactual</td>\n",
              "      <td>El ABUSO DE MASCARILLAS CAUSA HIPOXIA</td>\n",
              "      <td>El uso prolongado de la mascarilla produce hip...</td>\n",
              "      <td>Perma |</td>\n",
              "      <td>NaN</td>\n",
              "    </tr>\n",
              "    <tr>\n",
              "      <th>...</th>\n",
              "      <td>...</td>\n",
              "      <td>...</td>\n",
              "      <td>...</td>\n",
              "      <td>...</td>\n",
              "      <td>...</td>\n",
              "      <td>...</td>\n",
              "      <td>...</td>\n",
              "      <td>...</td>\n",
              "    </tr>\n",
              "    <tr>\n",
              "      <th>151</th>\n",
              "      <td>365</td>\n",
              "      <td>0</td>\n",
              "      <td>Covid-19</td>\n",
              "      <td>La voz del pueblo 920 am</td>\n",
              "      <td>Por cada 100 habitantes en Ibagué hay 11 conta...</td>\n",
              "      <td>El municipio hace parte del top 10 a nivel paí...</td>\n",
              "      <td>https://www.lavozdelpueblo920am.com/ibague/567...</td>\n",
              "      <td>NaN</td>\n",
              "    </tr>\n",
              "    <tr>\n",
              "      <th>67</th>\n",
              "      <td>166</td>\n",
              "      <td>0</td>\n",
              "      <td>Covid-19</td>\n",
              "      <td>Mallorca Diario</td>\n",
              "      <td>Polémica por la relación de Leire Pajín con el...</td>\n",
              "      <td>Fuerte polémica en redes sociales tras conocer...</td>\n",
              "      <td>https://www.mallorcadiario.com/leire-pajin-ase...</td>\n",
              "      <td>NaN</td>\n",
              "    </tr>\n",
              "    <tr>\n",
              "      <th>156</th>\n",
              "      <td>376</td>\n",
              "      <td>0</td>\n",
              "      <td>Covid-19</td>\n",
              "      <td>AFPFactual</td>\n",
              "      <td>¿El eucalipto podría combatir el COVID19?</td>\n",
              "      <td>¿El eucalipto podría combatir el COVID19?\\n\\nM...</td>\n",
              "      <td>Perma | Canal 7 Salta - #SaludNatural ¿El euca...</td>\n",
              "      <td>NaN</td>\n",
              "    </tr>\n",
              "    <tr>\n",
              "      <th>105</th>\n",
              "      <td>248</td>\n",
              "      <td>0</td>\n",
              "      <td>Covid-19</td>\n",
              "      <td>Agencia EFE</td>\n",
              "      <td>Google está instalando secretamente una aplica...</td>\n",
              "      <td>Google está instalando secretamente una aplica...</td>\n",
              "      <td>https://twitter.com/FotografoGus1/status/12673...</td>\n",
              "      <td>NaN</td>\n",
              "    </tr>\n",
              "    <tr>\n",
              "      <th>93</th>\n",
              "      <td>230</td>\n",
              "      <td>1</td>\n",
              "      <td>Covid-19</td>\n",
              "      <td>NY Times</td>\n",
              "      <td>Este médico advirtió sobre el coronavirus. Hab...</td>\n",
              "      <td>Li Wenliang, el médico que fue uno de los prim...</td>\n",
              "      <td>https://www.nytimes.com/es/2020/02/09/espanol/...</td>\n",
              "      <td>NaN</td>\n",
              "    </tr>\n",
              "  </tbody>\n",
              "</table>\n",
              "<p>237 rows × 8 columns</p>\n",
              "</div>"
            ],
            "text/plain": [
              "      ID  ...  Unnamed: 7\n",
              "123  299  ...         NaN\n",
              "36   100  ...         NaN\n",
              "179  416  ...         NaN\n",
              "221  529  ...         NaN\n",
              "49   134  ...         NaN\n",
              "..   ...  ...         ...\n",
              "151  365  ...         NaN\n",
              "67   166  ...         NaN\n",
              "156  376  ...         NaN\n",
              "105  248  ...         NaN\n",
              "93   230  ...         NaN\n",
              "\n",
              "[237 rows x 8 columns]"
            ]
          },
          "metadata": {},
          "execution_count": 2
        }
      ]
    },
    {
      "cell_type": "code",
      "metadata": {
        "colab": {
          "base_uri": "https://localhost:8080/",
          "height": 949
        },
        "id": "xLt_zPknLyly",
        "outputId": "98bbc2f8-7742-4724-a3d8-c86a07216efa"
      },
      "source": [
        "#renomando a coluna classe e texto\n",
        "df_dataset = dataset.rename(columns={'CATEGORY': 'classe'})\n",
        "df_dataset"
      ],
      "execution_count": 3,
      "outputs": [
        {
          "output_type": "execute_result",
          "data": {
            "text/html": [
              "<div>\n",
              "<style scoped>\n",
              "    .dataframe tbody tr th:only-of-type {\n",
              "        vertical-align: middle;\n",
              "    }\n",
              "\n",
              "    .dataframe tbody tr th {\n",
              "        vertical-align: top;\n",
              "    }\n",
              "\n",
              "    .dataframe thead th {\n",
              "        text-align: right;\n",
              "    }\n",
              "</style>\n",
              "<table border=\"1\" class=\"dataframe\">\n",
              "  <thead>\n",
              "    <tr style=\"text-align: right;\">\n",
              "      <th></th>\n",
              "      <th>ID</th>\n",
              "      <th>classe</th>\n",
              "      <th>TOPICS</th>\n",
              "      <th>SOURCE</th>\n",
              "      <th>HEADLINE</th>\n",
              "      <th>TEXT</th>\n",
              "      <th>LINK</th>\n",
              "      <th>Unnamed: 7</th>\n",
              "    </tr>\n",
              "  </thead>\n",
              "  <tbody>\n",
              "    <tr>\n",
              "      <th>123</th>\n",
              "      <td>299</td>\n",
              "      <td>0</td>\n",
              "      <td>Covid-19</td>\n",
              "      <td>AFPFactual</td>\n",
              "      <td>55 personas mueren en EEUU tras recibir la vac...</td>\n",
              "      <td>Al menos 55 personas mueren en EE.UU. tras rec...</td>\n",
              "      <td>https://www.hispantv.com/Noticia/salud/485847/...</td>\n",
              "      <td>NaN</td>\n",
              "    </tr>\n",
              "    <tr>\n",
              "      <th>36</th>\n",
              "      <td>100</td>\n",
              "      <td>1</td>\n",
              "      <td>Covid-19</td>\n",
              "      <td>El Tiempo</td>\n",
              "      <td>Uso de plasma disminuye hospitalización en pac...</td>\n",
              "      <td>Así lo reveló el estudio en el que participaro...</td>\n",
              "      <td>https://www.eltiempo.com/colombia/medellin/uso...</td>\n",
              "      <td>NaN</td>\n",
              "    </tr>\n",
              "    <tr>\n",
              "      <th>179</th>\n",
              "      <td>416</td>\n",
              "      <td>0</td>\n",
              "      <td>Covid-19</td>\n",
              "      <td>AFPFactual</td>\n",
              "      <td>Resolucion del Consejo de Europa sobre las Vac...</td>\n",
              "      <td>Resolucion del Consejo de Europa sobre las Vac...</td>\n",
              "      <td>https://www.facebook.com/586293665575278/posts...</td>\n",
              "      <td>NaN</td>\n",
              "    </tr>\n",
              "    <tr>\n",
              "      <th>221</th>\n",
              "      <td>529</td>\n",
              "      <td>1</td>\n",
              "      <td>Covid-19</td>\n",
              "      <td>Xataka</td>\n",
              "      <td>Alguien dice vender la vacuna de Pfizer contra...</td>\n",
              "      <td>Desafortunadamente no era tan difícil prever q...</td>\n",
              "      <td>https://www.xataka.com.mx/medicina-y-salud/alg...</td>\n",
              "      <td>NaN</td>\n",
              "    </tr>\n",
              "    <tr>\n",
              "      <th>49</th>\n",
              "      <td>134</td>\n",
              "      <td>0</td>\n",
              "      <td>Covid-19</td>\n",
              "      <td>AFPFactual</td>\n",
              "      <td>El ABUSO DE MASCARILLAS CAUSA HIPOXIA</td>\n",
              "      <td>El uso prolongado de la mascarilla produce hip...</td>\n",
              "      <td>Perma |</td>\n",
              "      <td>NaN</td>\n",
              "    </tr>\n",
              "    <tr>\n",
              "      <th>...</th>\n",
              "      <td>...</td>\n",
              "      <td>...</td>\n",
              "      <td>...</td>\n",
              "      <td>...</td>\n",
              "      <td>...</td>\n",
              "      <td>...</td>\n",
              "      <td>...</td>\n",
              "      <td>...</td>\n",
              "    </tr>\n",
              "    <tr>\n",
              "      <th>151</th>\n",
              "      <td>365</td>\n",
              "      <td>0</td>\n",
              "      <td>Covid-19</td>\n",
              "      <td>La voz del pueblo 920 am</td>\n",
              "      <td>Por cada 100 habitantes en Ibagué hay 11 conta...</td>\n",
              "      <td>El municipio hace parte del top 10 a nivel paí...</td>\n",
              "      <td>https://www.lavozdelpueblo920am.com/ibague/567...</td>\n",
              "      <td>NaN</td>\n",
              "    </tr>\n",
              "    <tr>\n",
              "      <th>67</th>\n",
              "      <td>166</td>\n",
              "      <td>0</td>\n",
              "      <td>Covid-19</td>\n",
              "      <td>Mallorca Diario</td>\n",
              "      <td>Polémica por la relación de Leire Pajín con el...</td>\n",
              "      <td>Fuerte polémica en redes sociales tras conocer...</td>\n",
              "      <td>https://www.mallorcadiario.com/leire-pajin-ase...</td>\n",
              "      <td>NaN</td>\n",
              "    </tr>\n",
              "    <tr>\n",
              "      <th>156</th>\n",
              "      <td>376</td>\n",
              "      <td>0</td>\n",
              "      <td>Covid-19</td>\n",
              "      <td>AFPFactual</td>\n",
              "      <td>¿El eucalipto podría combatir el COVID19?</td>\n",
              "      <td>¿El eucalipto podría combatir el COVID19?\\n\\nM...</td>\n",
              "      <td>Perma | Canal 7 Salta - #SaludNatural ¿El euca...</td>\n",
              "      <td>NaN</td>\n",
              "    </tr>\n",
              "    <tr>\n",
              "      <th>105</th>\n",
              "      <td>248</td>\n",
              "      <td>0</td>\n",
              "      <td>Covid-19</td>\n",
              "      <td>Agencia EFE</td>\n",
              "      <td>Google está instalando secretamente una aplica...</td>\n",
              "      <td>Google está instalando secretamente una aplica...</td>\n",
              "      <td>https://twitter.com/FotografoGus1/status/12673...</td>\n",
              "      <td>NaN</td>\n",
              "    </tr>\n",
              "    <tr>\n",
              "      <th>93</th>\n",
              "      <td>230</td>\n",
              "      <td>1</td>\n",
              "      <td>Covid-19</td>\n",
              "      <td>NY Times</td>\n",
              "      <td>Este médico advirtió sobre el coronavirus. Hab...</td>\n",
              "      <td>Li Wenliang, el médico que fue uno de los prim...</td>\n",
              "      <td>https://www.nytimes.com/es/2020/02/09/espanol/...</td>\n",
              "      <td>NaN</td>\n",
              "    </tr>\n",
              "  </tbody>\n",
              "</table>\n",
              "<p>237 rows × 8 columns</p>\n",
              "</div>"
            ],
            "text/plain": [
              "      ID  classe  ...                                               LINK Unnamed: 7\n",
              "123  299       0  ...  https://www.hispantv.com/Noticia/salud/485847/...        NaN\n",
              "36   100       1  ...  https://www.eltiempo.com/colombia/medellin/uso...        NaN\n",
              "179  416       0  ...  https://www.facebook.com/586293665575278/posts...        NaN\n",
              "221  529       1  ...  https://www.xataka.com.mx/medicina-y-salud/alg...        NaN\n",
              "49   134       0  ...                                            Perma |        NaN\n",
              "..   ...     ...  ...                                                ...        ...\n",
              "151  365       0  ...  https://www.lavozdelpueblo920am.com/ibague/567...        NaN\n",
              "67   166       0  ...  https://www.mallorcadiario.com/leire-pajin-ase...        NaN\n",
              "156  376       0  ...  Perma | Canal 7 Salta - #SaludNatural ¿El euca...        NaN\n",
              "105  248       0  ...  https://twitter.com/FotografoGus1/status/12673...        NaN\n",
              "93   230       1  ...  https://www.nytimes.com/es/2020/02/09/espanol/...        NaN\n",
              "\n",
              "[237 rows x 8 columns]"
            ]
          },
          "metadata": {},
          "execution_count": 3
        }
      ]
    },
    {
      "cell_type": "code",
      "metadata": {
        "colab": {
          "base_uri": "https://localhost:8080/",
          "height": 509
        },
        "id": "9MjHQ_MAJj_y",
        "outputId": "fe2938fe-e15f-4b19-b81c-3360b1df52ea"
      },
      "source": [
        "import matplotlib.pyplot as plt\n",
        "plt.figure(figsize = (10, 7)) \n",
        "x = df_dataset ['classe'] \n",
        "plt.hist(x, bins = 'auto', color = \"blue\") \n",
        "plt.title('Distribuição de ocorrências para cada classe')\n",
        "plt.ylabel('Frequencia')\n",
        "plt.xlabel('Classes (0, 1)')\n",
        "plt.show()\n",
        "#-----------------------------------------------------------\n",
        "df_dataset ['classe'].value_counts()"
      ],
      "execution_count": 4,
      "outputs": [
        {
          "output_type": "display_data",
          "data": {
            "image/png": "[encoded data removed]",
            "text/plain": [
              "<Figure size 720x504 with 1 Axes>"
            ]
          },
          "metadata": {
            "needs_background": "light"
          }
        },
        {
          "output_type": "execute_result",
          "data": {
            "text/plain": [
              "0    119\n",
              "1    118\n",
              "Name: classe, dtype: int64"
            ]
          },
          "metadata": {},
          "execution_count": 4
        }
      ]
    },
    {
      "cell_type": "code",
      "metadata": {
        "colab": {
          "base_uri": "https://localhost:8080/"
        },
        "id": "xE4ADfHTM0mn",
        "outputId": "0409534e-def3-4e51-d4f9-1daea62f71cc"
      },
      "source": [
        "#undersampling - deleting samples from the majority class\n",
        "classe_0 = df_dataset [df_dataset .classe == 0]\n",
        "classe_1 = df_dataset [df_dataset .classe == 1]\n",
        "\n",
        "\n",
        "#Obtaining the less representative sample\n",
        "sample_0 = classe_0.sample(n=118, replace=True)\n",
        "\n",
        "#Concatenating new data with LESS representativeness into the initial dataset.\n",
        "df_dataset_undersampling = pd.concat([classe_1, sample_0])\n",
        "\n",
        "print(df_dataset_undersampling['classe'].value_counts())\n"
      ],
      "execution_count": 5,
      "outputs": [
        {
          "output_type": "stream",
          "name": "stdout",
          "text": [
            "1    118\n",
            "0    118\n",
            "Name: classe, dtype: int64\n"
          ]
        }
      ]
    },
    {
      "cell_type": "code",
      "metadata": {
        "colab": {
          "base_uri": "https://localhost:8080/",
          "height": 509
        },
        "id": "z3RfOvsSPH2e",
        "outputId": "c120f05a-cede-4e67-af6a-152a41a00238"
      },
      "source": [
        "#Balanced dataset\n",
        "import matplotlib.pyplot as plt\n",
        "plt.figure(figsize = (10, 7)) \n",
        "x = df_dataset_undersampling ['classe'] \n",
        "plt.hist(x, bins = 'auto', color = \"blue\") \n",
        "plt.title('Distribuição de ocorrências para cada classe')\n",
        "plt.ylabel('Frequencia')\n",
        "plt.xlabel('Classes (0, 1)')\n",
        "plt.show()\n",
        "\n",
        "df_dataset_undersampling ['classe'].value_counts()"
      ],
      "execution_count": 6,
      "outputs": [
        {
          "output_type": "display_data",
          "data": {
            "image/png": "[encoded data removed]",
            "text/plain": [
              "<Figure size 720x504 with 1 Axes>"
            ]
          },
          "metadata": {
            "needs_background": "light"
          }
        },
        {
          "output_type": "execute_result",
          "data": {
            "text/plain": [
              "1    118\n",
              "0    118\n",
              "Name: classe, dtype: int64"
            ]
          },
          "metadata": {},
          "execution_count": 6
        }
      ]
    },
    {
      "cell_type": "code",
      "metadata": {
        "colab": {
          "base_uri": "https://localhost:8080/"
        },
        "id": "x3dJFDWiP8lv",
        "outputId": "81dee2e5-49c4-4b73-fb79-2b2b50767dc7"
      },
      "source": [
        "!pip install ktrain\n",
        "import keras\n",
        "import ktrain\n",
        "from ktrain import text"
      ],
      "execution_count": 7,
      "outputs": [
        {
          "output_type": "stream",
          "name": "stdout",
          "text": [
            "Requirement already satisfied: ktrain in /usr/local/lib/python3.7/dist-packages (0.28.2)\n",
            "Requirement already satisfied: jieba in /usr/local/lib/python3.7/dist-packages (from ktrain) (0.42.1)\n",
            "Requirement already satisfied: scikit-learn==0.23.2 in /usr/local/lib/python3.7/dist-packages (from ktrain) (0.23.2)\n",
            "Requirement already satisfied: langdetect in /usr/local/lib/python3.7/dist-packages (from ktrain) (1.0.9)\n",
            "Requirement already satisfied: joblib in /usr/local/lib/python3.7/dist-packages (from ktrain) (1.0.1)\n",
            "Requirement already satisfied: seqeval==0.0.19 in /usr/local/lib/python3.7/dist-packages (from ktrain) (0.0.19)\n",
            "Requirement already satisfied: requests in /usr/local/lib/python3.7/dist-packages (from ktrain) (2.23.0)\n",
            "Requirement already satisfied: cchardet in /usr/local/lib/python3.7/dist-packages (from ktrain) (2.1.7)\n",
            "Requirement already satisfied: transformers<=4.10.3,>=4.0.0 in /usr/local/lib/python3.7/dist-packages (from ktrain) (4.10.3)\n",
            "Requirement already satisfied: sentencepiece in /usr/local/lib/python3.7/dist-packages (from ktrain) (0.1.96)\n",
            "Requirement already satisfied: keras-bert>=0.86.0 in /usr/local/lib/python3.7/dist-packages (from ktrain) (0.88.0)\n",
            "Requirement already satisfied: syntok in /usr/local/lib/python3.7/dist-packages (from ktrain) (1.3.1)\n",
            "Requirement already satisfied: whoosh in /usr/local/lib/python3.7/dist-packages (from ktrain) (2.7.4)\n",
            "Requirement already satisfied: packaging in /usr/local/lib/python3.7/dist-packages (from ktrain) (21.0)\n",
            "Requirement already satisfied: fastprogress>=0.1.21 in /usr/local/lib/python3.7/dist-packages (from ktrain) (1.0.0)\n",
            "Requirement already satisfied: chardet in /usr/local/lib/python3.7/dist-packages (from ktrain) (3.0.4)\n",
            "Requirement already satisfied: matplotlib>=3.0.0 in /usr/local/lib/python3.7/dist-packages (from ktrain) (3.2.2)\n",
            "Requirement already satisfied: pandas>=1.0.1 in /usr/local/lib/python3.7/dist-packages (from ktrain) (1.1.5)\n",
            "Requirement already satisfied: numpy>=1.13.3 in /usr/local/lib/python3.7/dist-packages (from scikit-learn==0.23.2->ktrain) (1.19.5)\n",
            "Requirement already satisfied: scipy>=0.19.1 in /usr/local/lib/python3.7/dist-packages (from scikit-learn==0.23.2->ktrain) (1.4.1)\n",
            "Requirement already satisfied: threadpoolctl>=2.0.0 in /usr/local/lib/python3.7/dist-packages (from scikit-learn==0.23.2->ktrain) (3.0.0)\n",
            "Requirement already satisfied: Keras>=2.2.4 in /usr/local/lib/python3.7/dist-packages (from seqeval==0.0.19->ktrain) (2.6.0)\n",
            "Requirement already satisfied: keras-transformer>=0.39.0 in /usr/local/lib/python3.7/dist-packages (from keras-bert>=0.86.0->ktrain) (0.39.0)\n",
            "Requirement already satisfied: keras-embed-sim>=0.9.0 in /usr/local/lib/python3.7/dist-packages (from keras-transformer>=0.39.0->keras-bert>=0.86.0->ktrain) (0.9.0)\n",
            "Requirement already satisfied: keras-position-wise-feed-forward>=0.7.0 in /usr/local/lib/python3.7/dist-packages (from keras-transformer>=0.39.0->keras-bert>=0.86.0->ktrain) (0.7.0)\n",
            "Requirement already satisfied: keras-pos-embd>=0.12.0 in /usr/local/lib/python3.7/dist-packages (from keras-transformer>=0.39.0->keras-bert>=0.86.0->ktrain) (0.12.0)\n",
            "Requirement already satisfied: keras-multi-head>=0.28.0 in /usr/local/lib/python3.7/dist-packages (from keras-transformer>=0.39.0->keras-bert>=0.86.0->ktrain) (0.28.0)\n",
            "Requirement already satisfied: keras-layer-normalization>=0.15.0 in /usr/local/lib/python3.7/dist-packages (from keras-transformer>=0.39.0->keras-bert>=0.86.0->ktrain) (0.15.0)\n",
            "Requirement already satisfied: keras-self-attention>=0.50.0 in /usr/local/lib/python3.7/dist-packages (from keras-multi-head>=0.28.0->keras-transformer>=0.39.0->keras-bert>=0.86.0->ktrain) (0.50.0)\n",
            "Requirement already satisfied: python-dateutil>=2.1 in /usr/local/lib/python3.7/dist-packages (from matplotlib>=3.0.0->ktrain) (2.8.2)\n",
            "Requirement already satisfied: kiwisolver>=1.0.1 in /usr/local/lib/python3.7/dist-packages (from matplotlib>=3.0.0->ktrain) (1.3.2)\n",
            "Requirement already satisfied: cycler>=0.10 in /usr/local/lib/python3.7/dist-packages (from matplotlib>=3.0.0->ktrain) (0.10.0)\n",
            "Requirement already satisfied: pyparsing!=2.0.4,!=2.1.2,!=2.1.6,>=2.0.1 in /usr/local/lib/python3.7/dist-packages (from matplotlib>=3.0.0->ktrain) (2.4.7)\n",
            "Requirement already satisfied: six in /usr/local/lib/python3.7/dist-packages (from cycler>=0.10->matplotlib>=3.0.0->ktrain) (1.15.0)\n",
            "Requirement already satisfied: pytz>=2017.2 in /usr/local/lib/python3.7/dist-packages (from pandas>=1.0.1->ktrain) (2018.9)\n",
            "Requirement already satisfied: filelock in /usr/local/lib/python3.7/dist-packages (from transformers<=4.10.3,>=4.0.0->ktrain) (3.3.0)\n",
            "Requirement already satisfied: pyyaml>=5.1 in /usr/local/lib/python3.7/dist-packages (from transformers<=4.10.3,>=4.0.0->ktrain) (6.0)\n",
            "Requirement already satisfied: huggingface-hub>=0.0.12 in /usr/local/lib/python3.7/dist-packages (from transformers<=4.10.3,>=4.0.0->ktrain) (0.0.19)\n",
            "Requirement already satisfied: regex!=2019.12.17 in /usr/local/lib/python3.7/dist-packages (from transformers<=4.10.3,>=4.0.0->ktrain) (2019.12.20)\n",
            "Requirement already satisfied: sacremoses in /usr/local/lib/python3.7/dist-packages (from transformers<=4.10.3,>=4.0.0->ktrain) (0.0.46)\n",
            "Requirement already satisfied: tokenizers<0.11,>=0.10.1 in /usr/local/lib/python3.7/dist-packages (from transformers<=4.10.3,>=4.0.0->ktrain) (0.10.3)\n",
            "Requirement already satisfied: tqdm>=4.27 in /usr/local/lib/python3.7/dist-packages (from transformers<=4.10.3,>=4.0.0->ktrain) (4.62.3)\n",
            "Requirement already satisfied: importlib-metadata in /usr/local/lib/python3.7/dist-packages (from transformers<=4.10.3,>=4.0.0->ktrain) (4.8.1)\n",
            "Requirement already satisfied: typing-extensions in /usr/local/lib/python3.7/dist-packages (from huggingface-hub>=0.0.12->transformers<=4.10.3,>=4.0.0->ktrain) (3.7.4.3)\n",
            "Requirement already satisfied: zipp>=0.5 in /usr/local/lib/python3.7/dist-packages (from importlib-metadata->transformers<=4.10.3,>=4.0.0->ktrain) (3.6.0)\n",
            "Requirement already satisfied: urllib3!=1.25.0,!=1.25.1,<1.26,>=1.21.1 in /usr/local/lib/python3.7/dist-packages (from requests->ktrain) (1.24.3)\n",
            "Requirement already satisfied: idna<3,>=2.5 in /usr/local/lib/python3.7/dist-packages (from requests->ktrain) (2.10)\n",
            "Requirement already satisfied: certifi>=2017.4.17 in /usr/local/lib/python3.7/dist-packages (from requests->ktrain) (2021.5.30)\n",
            "Requirement already satisfied: click in /usr/local/lib/python3.7/dist-packages (from sacremoses->transformers<=4.10.3,>=4.0.0->ktrain) (7.1.2)\n"
          ]
        }
      ]
    },
    {
      "cell_type": "code",
      "metadata": {
        "colab": {
          "base_uri": "https://localhost:8080/"
        },
        "id": "ZnMtW3d1QYRk",
        "outputId": "0d484ce6-6a7b-4656-f2f5-13057bc7b63b"
      },
      "source": [
        "#fasttext\n",
        "(x_train, y_train), (x_test, y_test), preproc = text.texts_from_df(df_dataset_undersampling, \n",
        "                                                                   'TEXT',\n",
        "                                                                   label_columns='classe',\n",
        "                                                                   maxlen=64, \n",
        "                                                                   max_features=5000,\n",
        "                                                                   preprocess_mode='standard',\n",
        "                                                                   lang=None,\n",
        "                                                                   ngram_range=1,\n",
        "                                                                   val_pct = 0.1,\n",
        "                                                                   )"
      ],
      "execution_count": 8,
      "outputs": [
        {
          "output_type": "stream",
          "name": "stdout",
          "text": [
            "['not_classe', 'classe']\n",
            "     not_classe  classe\n",
            "34          0.0     1.0\n",
            "166         0.0     1.0\n",
            "36          0.0     1.0\n",
            "27          1.0     0.0\n",
            "136         1.0     0.0\n",
            "['not_classe', 'classe']\n",
            "     not_classe  classe\n",
            "121         1.0     0.0\n",
            "135         1.0     0.0\n",
            "17          1.0     0.0\n",
            "83          1.0     0.0\n",
            "123         1.0     0.0\n",
            "language: es\n",
            "Word Counts: 12243\n",
            "Nrows: 212\n",
            "212 train sequences\n",
            "train sequence lengths:\n",
            "\tmean : 451\n",
            "\t95percentile : 1027\n",
            "\t99percentile : 1765\n",
            "x_train shape: (212,64)\n",
            "y_train shape: (212, 2)\n",
            "Is Multi-Label? False\n",
            "24 test sequences\n",
            "test sequence lengths:\n",
            "\tmean : 450\n",
            "\t95percentile : 967\n",
            "\t99percentile : 1719\n",
            "x_test shape: (24,64)\n",
            "y_test shape: (24, 2)\n"
          ]
        }
      ]
    },
    {
      "cell_type": "code",
      "metadata": {
        "colab": {
          "base_uri": "https://localhost:8080/"
        },
        "id": "3HMzKLmKQpKC",
        "outputId": "8bee6095-f160-4377-bb72-bbd6e24c24bf"
      },
      "source": [
        "#fasttext classifier\n",
        "model = text.text_classifier('fasttext', (x_train, y_train) , preproc=preproc)\n",
        "classifier = ktrain.get_learner(model, \n",
        "                             train_data=(x_train, y_train), \n",
        "                             val_data=(x_test, y_test)\n",
        "                             )"
      ],
      "execution_count": 77,
      "outputs": [
        {
          "output_type": "stream",
          "name": "stdout",
          "text": [
            "Is Multi-Label? False\n",
            "compiling word ID features...\n",
            "maxlen is 64\n",
            "done.\n"
          ]
        }
      ]
    },
    {
      "cell_type": "code",
      "metadata": {
        "colab": {
          "base_uri": "https://localhost:8080/"
        },
        "id": "pHp5dIsHQuXc",
        "outputId": "b509b5bd-36cb-4ad7-d5c7-1f1e51823fa8"
      },
      "source": [
        "#fasttext classifier\n",
        "classifier.fit_onecycle(0.01,5)"
      ],
      "execution_count": 80,
      "outputs": [
        {
          "output_type": "stream",
          "name": "stdout",
          "text": [
            "\n",
            "\n",
            "begin training using onecycle policy with max lr of 0.01...\n",
            "Epoch 1/5\n",
            "7/7 [==============================] - 0s 15ms/step - loss: 0.4080 - accuracy: 0.8302 - val_loss: 0.6904 - val_accuracy: 0.3333\n",
            "Epoch 2/5\n",
            "7/7 [==============================] - 0s 12ms/step - loss: 0.3846 - accuracy: 0.8443 - val_loss: 0.6745 - val_accuracy: 0.6667\n",
            "Epoch 3/5\n",
            "7/7 [==============================] - 0s 11ms/step - loss: 0.2430 - accuracy: 0.9104 - val_loss: 0.6498 - val_accuracy: 0.7083\n",
            "Epoch 4/5\n",
            "7/7 [==============================] - 0s 10ms/step - loss: 0.1990 - accuracy: 0.9245 - val_loss: 0.6457 - val_accuracy: 0.7917\n",
            "Epoch 5/5\n",
            "7/7 [==============================] - 0s 11ms/step - loss: 0.1413 - accuracy: 0.9528 - val_loss: 0.6477 - val_accuracy: 0.7083\n"
          ]
        },
        {
          "output_type": "execute_result",
          "data": {
            "text/plain": [
              "<keras.callbacks.History at 0x7f67139f5310>"
            ]
          },
          "metadata": {},
          "execution_count": 80
        }
      ]
    },
    {
      "cell_type": "code",
      "metadata": {
        "colab": {
          "base_uri": "https://localhost:8080/"
        },
        "id": "Q-Gs2Bc0Qy9t",
        "outputId": "638785ac-491c-4947-d82a-29ab45f71c55"
      },
      "source": [
        "classifier.validate()"
      ],
      "execution_count": 81,
      "outputs": [
        {
          "output_type": "stream",
          "name": "stdout",
          "text": [
            "              precision    recall  f1-score   support\n",
            "\n",
            "           0       1.00      0.56      0.72        16\n",
            "           1       0.53      1.00      0.70         8\n",
            "\n",
            "    accuracy                           0.71        24\n",
            "   macro avg       0.77      0.78      0.71        24\n",
            "weighted avg       0.84      0.71      0.71        24\n",
            "\n"
          ]
        },
        {
          "output_type": "execute_result",
          "data": {
            "text/plain": [
              "array([[9, 7],\n",
              "       [0, 8]])"
            ]
          },
          "metadata": {},
          "execution_count": 81
        }
      ]
    },
    {
      "cell_type": "code",
      "metadata": {
        "colab": {
          "base_uri": "https://localhost:8080/",
          "height": 374
        },
        "id": "ziQpjqnoTlE3",
        "outputId": "9603d3c7-ada9-43f9-cdc3-6b950c4502ef"
      },
      "source": [
        "#bert\n",
        "(x_train, y_train), (x_test, y_test), preproc = text.texts_from_df(df_dataset_undersampling, \n",
        "                                                                   'TEXT',\n",
        "                                                                   label_columns='classe',\n",
        "                                                                   maxlen=64, \n",
        "                                                                   max_features=5000,\n",
        "                                                                   preprocess_mode='bert',\n",
        "                                                                   lang=None,\n",
        "                                                                   val_pct = 0.1,\n",
        "                                                                   )"
      ],
      "execution_count": 9,
      "outputs": [
        {
          "output_type": "stream",
          "name": "stdout",
          "text": [
            "['not_classe', 'classe']\n",
            "     not_classe  classe\n",
            "216         0.0     1.0\n",
            "103         1.0     0.0\n",
            "125         1.0     0.0\n",
            "62          0.0     1.0\n",
            "213         0.0     1.0\n",
            "['not_classe', 'classe']\n",
            "     not_classe  classe\n",
            "56          0.0     1.0\n",
            "52          1.0     0.0\n",
            "127         0.0     1.0\n",
            "50          0.0     1.0\n",
            "6           0.0     1.0\n",
            "preprocessing train...\n",
            "language: es\n"
          ]
        },
        {
          "output_type": "display_data",
          "data": {
            "text/html": [
              "done."
            ],
            "text/plain": [
              "<IPython.core.display.HTML object>"
            ]
          },
          "metadata": {}
        },
        {
          "output_type": "stream",
          "name": "stdout",
          "text": [
            "Is Multi-Label? False\n",
            "preprocessing test...\n",
            "language: es\n"
          ]
        },
        {
          "output_type": "display_data",
          "data": {
            "text/html": [
              "done."
            ],
            "text/plain": [
              "<IPython.core.display.HTML object>"
            ]
          },
          "metadata": {}
        }
      ]
    },
    {
      "cell_type": "code",
      "metadata": {
        "colab": {
          "base_uri": "https://localhost:8080/"
        },
        "id": "uqYD3kuUTxJz",
        "outputId": "7bb8b44f-c941-4d55-e269-246ba1384a31"
      },
      "source": [
        "#bert classifier\n",
        "model = text.text_classifier('bert', (x_train, y_train) , preproc=preproc)\n",
        "classifier = ktrain.get_learner(model, \n",
        "                             train_data=(x_train, y_train), \n",
        "                             val_data=(x_test, y_test),\n",
        "                             batch_size=64\n",
        "                             )"
      ],
      "execution_count": 10,
      "outputs": [
        {
          "output_type": "stream",
          "name": "stdout",
          "text": [
            "Is Multi-Label? False\n",
            "maxlen is 64\n",
            "done.\n"
          ]
        }
      ]
    },
    {
      "cell_type": "code",
      "metadata": {
        "colab": {
          "base_uri": "https://localhost:8080/"
        },
        "id": "ewKPA3iBT6Ej",
        "outputId": "5d8ba816-a0ca-4695-d9d7-f3b8073a65c0"
      },
      "source": [
        "#Bert Classifier\n",
        "classifier.fit_onecycle(0.00002,1)"
      ],
      "execution_count": 11,
      "outputs": [
        {
          "output_type": "stream",
          "name": "stdout",
          "text": [
            "\n",
            "\n",
            "begin training using onecycle policy with max lr of 2e-05...\n",
            "4/4 [==============================] - 163s 33s/step - loss: 0.6939 - accuracy: 0.5189 - val_loss: 0.7707 - val_accuracy: 0.4167\n"
          ]
        },
        {
          "output_type": "execute_result",
          "data": {
            "text/plain": [
              "<keras.callbacks.History at 0x7ff2671ace10>"
            ]
          },
          "metadata": {},
          "execution_count": 11
        }
      ]
    },
    {
      "cell_type": "code",
      "metadata": {
        "colab": {
          "base_uri": "https://localhost:8080/"
        },
        "id": "66p2B5PIURRQ",
        "outputId": "1597bbf7-bfe0-4859-ee10-e574f07b9554"
      },
      "source": [
        "classifier.validate()"
      ],
      "execution_count": 84,
      "outputs": [
        {
          "output_type": "stream",
          "name": "stdout",
          "text": [
            "              precision    recall  f1-score   support\n",
            "\n",
            "           0       0.00      0.00      0.00        14\n",
            "           1       0.39      0.90      0.55        10\n",
            "\n",
            "    accuracy                           0.38        24\n",
            "   macro avg       0.20      0.45      0.27        24\n",
            "weighted avg       0.16      0.38      0.23        24\n",
            "\n"
          ]
        },
        {
          "output_type": "execute_result",
          "data": {
            "text/plain": [
              "array([[ 0, 14],\n",
              "       [ 1,  9]])"
            ]
          },
          "metadata": {},
          "execution_count": 84
        }
      ]
    }
  ]
}